{
  "nbformat": 4,
  "nbformat_minor": 0,
  "metadata": {
    "colab": {
      "name": "Assignments1.ipynb",
      "provenance": [],
      "collapsed_sections": []
    },
    "kernelspec": {
      "name": "python3",
      "display_name": "Python 3"
    }
  },
  "cells": [
    {
      "cell_type": "code",
      "metadata": {
        "id": "4ZgKuCU_qZ8T",
        "colab_type": "code",
        "colab": {
          "base_uri": "https://localhost:8080/",
          "height": 55
        },
        "outputId": "79c5f742-eb57-4d0b-bf39-27617e6b29e3"
      },
      "source": [
        "# Question 1:\n",
        "\n",
        "lst=map(int, input('Enter Contains of List separated by (,) :').split(','))\n",
        "lst=list(lst)\n",
        "lst=set(lst)\n",
        "lst=list(lst)\n",
        "print('List after removing similar items: {0} '.format(lst))"
      ],
      "execution_count": null,
      "outputs": [
        {
          "output_type": "stream",
          "text": [
            "Enter Contains of List separated by (,) :1,2,3,4,5\n",
            "List after removing similar items: [1, 2, 3, 4, 5] \n"
          ],
          "name": "stdout"
        }
      ]
    },
    {
      "cell_type": "markdown",
      "metadata": {
        "id": "MSRXL1XpqYuI",
        "colab_type": "text"
      },
      "source": [
        ""
      ]
    },
    {
      "cell_type": "code",
      "metadata": {
        "id": "7XjjgpJjtvdN",
        "colab_type": "code",
        "colab": {
          "base_uri": "https://localhost:8080/",
          "height": 93
        },
        "outputId": "96051169-f1db-4e80-cb09-eb0514485ea9"
      },
      "source": [
        "# Question 2:\n",
        "\n",
        "store=map(int,input('Enter Contains of List separated by (,) :').split(','))\n",
        "store=list(store)\n",
        "print(len(store))\n",
        "print(sum(store))\n",
        "print('Largest: {0}, Smallest: {1}'.format(max(store), min(store)))"
      ],
      "execution_count": null,
      "outputs": [
        {
          "output_type": "stream",
          "text": [
            "Enter Contains of List separated by (,) :1,2,3,4,5,5\n",
            "6\n",
            "20\n",
            "Largest: 5, Smallest: 1\n"
          ],
          "name": "stdout"
        }
      ]
    },
    {
      "cell_type": "code",
      "metadata": {
        "id": "ypq2LM8kubra",
        "colab_type": "code",
        "colab": {
          "base_uri": "https://localhost:8080/",
          "height": 74
        },
        "outputId": "7809f9c9-70a1-47f3-97fb-545001af194c"
      },
      "source": [
        "# Question 3:\n",
        "\n",
        "n=int(input(\"Enter a number: \"))\n",
        "i=int(input(\"Enter ith bit to ON: \"))\n",
        "mask= (1 << i)\n",
        "result= n | mask\n",
        "print(result)"
      ],
      "execution_count": null,
      "outputs": [
        {
          "output_type": "stream",
          "text": [
            "Enter a number: 13\n",
            "Enter ith bit to ON: 1\n",
            "15\n"
          ],
          "name": "stdout"
        }
      ]
    },
    {
      "cell_type": "code",
      "metadata": {
        "id": "c3WknlqTv4uP",
        "colab_type": "code",
        "colab": {
          "base_uri": "https://localhost:8080/",
          "height": 55
        },
        "outputId": "8aa53e08-3959-4e1d-d4fd-61a92d2318b1"
      },
      "source": [
        "# Question 4:\n",
        "\n",
        "n=int(input('Enter a number to check: '))\n",
        "result=n & 1 #first bit is 0 if even else 1\n",
        "print(result)"
      ],
      "execution_count": null,
      "outputs": [
        {
          "output_type": "stream",
          "text": [
            "Enter a number to check: 26\n",
            "0\n"
          ],
          "name": "stdout"
        }
      ]
    },
    {
      "cell_type": "code",
      "metadata": {
        "id": "lZrwtErByoVO",
        "colab_type": "code",
        "colab": {
          "base_uri": "https://localhost:8080/",
          "height": 74
        },
        "outputId": "b24fd35b-45f6-4d62-da38-6df8ca61fe36"
      },
      "source": [
        "# Question 5:\n",
        "\n",
        "A=list(map(int,input('Enter Contains of List separated by (,) :').split(',')))\n",
        "B=list(map(int,input('Enter Contains of List separated by (,) :').split(',')))\n",
        "C=sorted(A+B)\n",
        "print(C)"
      ],
      "execution_count": null,
      "outputs": [
        {
          "output_type": "stream",
          "text": [
            "Enter Contains of List separated by (,) :1,2,3,4\n",
            "Enter Contains of List separated by (,) :5,6,7,8\n",
            "[1, 2, 3, 4, 5, 6, 7, 8]\n"
          ],
          "name": "stdout"
        }
      ]
    },
    {
      "cell_type": "code",
      "metadata": {
        "id": "DAbajn_4y7ie",
        "colab_type": "code",
        "colab": {
          "base_uri": "https://localhost:8080/",
          "height": 226
        },
        "outputId": "abd9863f-995a-40fc-ef9d-b4405296c21f"
      },
      "source": [
        "# Question 6:\n",
        "#{'names':marks}\n",
        "\n",
        "student = {input('Enter Name 1:'):int(input('Enter Marks 1:')),\n",
        "           input('Enter Name 2:'):int(input('Enter Marks 2:')),\n",
        "           input('Enter Name 3:'):int(input('Enter Marks 3:')),\n",
        "           input('Enter Name 4:'):int(input('Enter Marks 4:')),\n",
        "           input('Enter Name 5:'):int(input('Enter Marks 5:'))}\n",
        "\n",
        "sort_dict=sorted(student.items(), key=lambda x: x[1])\n",
        "\n",
        "print(dict(sort_dict))"
      ],
      "execution_count": null,
      "outputs": [
        {
          "output_type": "stream",
          "text": [
            "Enter Name 1:Vinay\n",
            "Enter Marks 1:50\n",
            "Enter Name 2:Ajay\n",
            "Enter Marks 2:80\n",
            "Enter Name 3:Anuj\n",
            "Enter Marks 3:40\n",
            "Enter Name 4:Sanju\n",
            "Enter Marks 4:88\n",
            "Enter Name 5:Anil\n",
            "Enter Marks 5:90\n",
            "{'Anuj': 40, 'Vinay': 50, 'Ajay': 80, 'Sanju': 88, 'Anil': 90}\n"
          ],
          "name": "stdout"
        }
      ]
    }
  ]
}